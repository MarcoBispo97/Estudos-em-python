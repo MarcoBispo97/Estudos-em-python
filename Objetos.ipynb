{
 "cells": [
  {
   "cell_type": "markdown",
   "id": "92c92f6e",
   "metadata": {},
   "source": [
    "# Em Python, tudo é objeto"
   ]
  },
  {
   "cell_type": "code",
   "execution_count": 1,
   "id": "fa9c37c3",
   "metadata": {},
   "outputs": [],
   "source": [
    "#Criando uma lista\n",
    "lst_num = ['Data', 'Science', 'Academy', 'Nota', 10, 10]"
   ]
  },
  {
   "cell_type": "code",
   "execution_count": 2,
   "id": "4891e315",
   "metadata": {},
   "outputs": [
    {
     "data": {
      "text/plain": [
       "list"
      ]
     },
     "execution_count": 2,
     "metadata": {},
     "output_type": "execute_result"
    }
   ],
   "source": [
    "#A lista lst_num é um objeto, uma instância da classe lista em python\n",
    "type(lst_num)"
   ]
  },
  {
   "cell_type": "code",
   "execution_count": 6,
   "id": "3b98130b",
   "metadata": {},
   "outputs": [
    {
     "data": {
      "text/plain": [
       "2"
      ]
     },
     "execution_count": 6,
     "metadata": {},
     "output_type": "execute_result"
    }
   ],
   "source": [
    "lst_num.count(10)"
   ]
  },
  {
   "cell_type": "code",
   "execution_count": 9,
   "id": "db915d8a",
   "metadata": {},
   "outputs": [
    {
     "name": "stdout",
     "output_type": "stream",
     "text": [
      "<class 'int'>\n",
      "<class 'list'>\n",
      "<class 'tuple'>\n",
      "<class 'dict'>\n",
      "<class 'str'>\n"
     ]
    }
   ],
   "source": [
    "#Usamos a função type, para verificar o tipo de um objeto\n",
    "print(type(10))\n",
    "print(type([]))\n",
    "print(type(()))\n",
    "print(type({}))\n",
    "print(type('a'))"
   ]
  },
  {
   "cell_type": "code",
   "execution_count": 11,
   "id": "b5af9ce7",
   "metadata": {},
   "outputs": [
    {
     "name": "stdout",
     "output_type": "stream",
     "text": [
      "<class '__main__.Carro'>\n"
     ]
    }
   ],
   "source": [
    "#Criando um novo objeto chamado Carro\n",
    "class Carro(object):\n",
    "    pass\n",
    "\n",
    "#Instância do Carro\n",
    "palio = Carro()\n",
    "\n",
    "print(type(palio))"
   ]
  },
  {
   "cell_type": "code",
   "execution_count": 12,
   "id": "c0325d55",
   "metadata": {},
   "outputs": [],
   "source": [
    "#Criando uma classe\n",
    "class Estudante:\n",
    "    def __init__(self, nome, idade, nota):\n",
    "        self.nome = nome\n",
    "        self.idade = idade\n",
    "        self.nota = nota"
   ]
  },
  {
   "cell_type": "code",
   "execution_count": 14,
   "id": "a0cb363e",
   "metadata": {},
   "outputs": [],
   "source": [
    "#Criando um objeto chamado Estudante1 a partir da classe Estudantes\n",
    "Estudante1 = Estudante(\"Pele\", 12, 9.5)"
   ]
  },
  {
   "cell_type": "code",
   "execution_count": 15,
   "id": "a25bfa40",
   "metadata": {},
   "outputs": [
    {
     "data": {
      "text/plain": [
       "'Pele'"
      ]
     },
     "execution_count": 15,
     "metadata": {},
     "output_type": "execute_result"
    }
   ],
   "source": [
    "Estudante1.nome"
   ]
  },
  {
   "cell_type": "code",
   "execution_count": 17,
   "id": "f76c53a8",
   "metadata": {},
   "outputs": [],
   "source": [
    "#Criando uma classe\n",
    "class Funcionarios:\n",
    "    def __init__(self, nome, salario):\n",
    "        self.nome = nome\n",
    "        self.salario = salario\n",
    "    \n",
    "    def listFunc(self):\n",
    "        print(\"O nome do funcionário é\" + self.nome + \" e o salário é R$\" + str(self.salario))"
   ]
  },
  {
   "cell_type": "code",
   "execution_count": 18,
   "id": "21160174",
   "metadata": {},
   "outputs": [],
   "source": [
    "#Criando um objeto chamado Func1 a partir da classe Funcionario\n",
    "Func1 = Funcionarios('Obama', 20000)"
   ]
  },
  {
   "cell_type": "code",
   "execution_count": 19,
   "id": "ece4597c",
   "metadata": {},
   "outputs": [
    {
     "name": "stdout",
     "output_type": "stream",
     "text": [
      "***** Usando atributos *****\n"
     ]
    }
   ],
   "source": [
    "#Usando o método da classe\n",
    "print('***** Usando atributos *****')"
   ]
  },
  {
   "cell_type": "code",
   "execution_count": 20,
   "id": "3d0cb7ec",
   "metadata": {},
   "outputs": [
    {
     "data": {
      "text/plain": [
       "True"
      ]
     },
     "execution_count": 20,
     "metadata": {},
     "output_type": "execute_result"
    }
   ],
   "source": [
    "hasattr(Func1, \"nome\")"
   ]
  },
  {
   "cell_type": "code",
   "execution_count": 21,
   "id": "d6c1ff81",
   "metadata": {},
   "outputs": [
    {
     "data": {
      "text/plain": [
       "True"
      ]
     },
     "execution_count": 21,
     "metadata": {},
     "output_type": "execute_result"
    }
   ],
   "source": [
    "hasattr(Func1, \"salario\")"
   ]
  },
  {
   "cell_type": "code",
   "execution_count": 24,
   "id": "99d13f58",
   "metadata": {},
   "outputs": [],
   "source": [
    "setattr(Func1, \"salario\", 4500) #Configure o atributo, novo salário"
   ]
  },
  {
   "cell_type": "code",
   "execution_count": 25,
   "id": "0b6109dc",
   "metadata": {},
   "outputs": [],
   "source": [
    "#get obtem o obj\n",
    "#del deleta o objeto\n",
    "#has verifica se tem o objeto"
   ]
  },
  {
   "cell_type": "code",
   "execution_count": 26,
   "id": "2381453c",
   "metadata": {},
   "outputs": [
    {
     "name": "stdout",
     "output_type": "stream",
     "text": [
      "4500\n"
     ]
    }
   ],
   "source": [
    "print(Func1.salario)"
   ]
  },
  {
   "cell_type": "code",
   "execution_count": null,
   "id": "88eb0bbb",
   "metadata": {},
   "outputs": [],
   "source": []
  }
 ],
 "metadata": {
  "kernelspec": {
   "display_name": "Python 3",
   "language": "python",
   "name": "python3"
  },
  "language_info": {
   "codemirror_mode": {
    "name": "ipython",
    "version": 3
   },
   "file_extension": ".py",
   "mimetype": "text/x-python",
   "name": "python",
   "nbconvert_exporter": "python",
   "pygments_lexer": "ipython3",
   "version": "3.8.8"
  }
 },
 "nbformat": 4,
 "nbformat_minor": 5
}
