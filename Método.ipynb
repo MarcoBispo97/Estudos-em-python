{
 "cells": [
  {
   "cell_type": "code",
   "execution_count": 1,
   "id": "c1d36500",
   "metadata": {},
   "outputs": [],
   "source": [
    "#Métodos são funções definidas dentro do corpo de uma classe\n",
    "#métodos são usados no conceito de encapsulamento, do paradigma de Programação a \n",
    "#Métodos são basicamente funções definidas dentro de uma classe, para manipular os objetos criados a partir da classe\n",
    "#Utiliza-se a palavra reservada def para criar métodos, da mesma forma que se cria funções\n",
    "#Podemos criar classes para nossas atividades de análise de dados e criar métodos específicos para cada tarefa\n",
    "#encapsulando nossa lógica de programação"
   ]
  },
  {
   "cell_type": "code",
   "execution_count": 3,
   "id": "533847f4",
   "metadata": {},
   "outputs": [],
   "source": [
    "#Criando uma classe chamada circulo\n",
    "class Circulo():\n",
    "    \n",
    "    #O valor de pi é constante\n",
    "    pi = 3.14\n",
    "    \n",
    "    #Quando um objeto desta classe for criado, este método será executado e o valor default do raio será 5\n",
    "    def __init__(self, raio = 5): #Valor constante que não dever ser modificado\n",
    "        self.raio = raio\n",
    "        \n",
    "    #Esse método calcula a área. Self utiliza os atributos deste mesmo objeto\n",
    "    def area(self):\n",
    "        return(self.raio * self.raio) *Circulo.pi\n",
    "    \n",
    "    #Método para gerar um novo raio\n",
    "    def setRaio(self, novo_raio):\n",
    "        self.raio = novo_raio\n",
    "        \n",
    "    #Método para obter o raio do círculo\n",
    "    def getRaio(self):\n",
    "        return self.raio"
   ]
  },
  {
   "cell_type": "code",
   "execution_count": 4,
   "id": "8bde483f",
   "metadata": {},
   "outputs": [],
   "source": [
    "#Criando o bjeto circ. Uma instancia da classe Circuito()\n",
    "circ = Circulo()"
   ]
  },
  {
   "cell_type": "code",
   "execution_count": 5,
   "id": "e23f57ff",
   "metadata": {},
   "outputs": [
    {
     "data": {
      "text/plain": [
       "5"
      ]
     },
     "execution_count": 5,
     "metadata": {},
     "output_type": "execute_result"
    }
   ],
   "source": [
    "#Executando um método da classe Circulo\n",
    "circ.getRaio()"
   ]
  },
  {
   "cell_type": "code",
   "execution_count": 6,
   "id": "e3748f34",
   "metadata": {},
   "outputs": [],
   "source": [
    "circ1 = Circulo(7)"
   ]
  },
  {
   "cell_type": "code",
   "execution_count": 7,
   "id": "ba41f73a",
   "metadata": {},
   "outputs": [
    {
     "data": {
      "text/plain": [
       "7"
      ]
     },
     "execution_count": 7,
     "metadata": {},
     "output_type": "execute_result"
    }
   ],
   "source": [
    "circ1.getRaio()"
   ]
  },
  {
   "cell_type": "code",
   "execution_count": 9,
   "id": "404ebbfd",
   "metadata": {},
   "outputs": [
    {
     "name": "stdout",
     "output_type": "stream",
     "text": [
      "O raio é: 7\n"
     ]
    }
   ],
   "source": [
    "print ('O raio é:', circ1.getRaio())"
   ]
  },
  {
   "cell_type": "code",
   "execution_count": 10,
   "id": "61d80820",
   "metadata": {},
   "outputs": [],
   "source": [
    "circ.setRaio(3)"
   ]
  },
  {
   "cell_type": "code",
   "execution_count": 12,
   "id": "8262eee8",
   "metadata": {},
   "outputs": [
    {
     "name": "stdout",
     "output_type": "stream",
     "text": [
      "Area igual a: 153.86\n"
     ]
    }
   ],
   "source": [
    "print('Area igual a:', circ1.area())"
   ]
  },
  {
   "cell_type": "code",
   "execution_count": null,
   "id": "850970ef",
   "metadata": {},
   "outputs": [],
   "source": []
  }
 ],
 "metadata": {
  "kernelspec": {
   "display_name": "Python 3",
   "language": "python",
   "name": "python3"
  },
  "language_info": {
   "codemirror_mode": {
    "name": "ipython",
    "version": 3
   },
   "file_extension": ".py",
   "mimetype": "text/x-python",
   "name": "python",
   "nbconvert_exporter": "python",
   "pygments_lexer": "ipython3",
   "version": "3.8.8"
  }
 },
 "nbformat": 4,
 "nbformat_minor": 5
}
