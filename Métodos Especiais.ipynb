{
 "cells": [
  {
   "cell_type": "code",
   "execution_count": 1,
   "id": "2d3e063a",
   "metadata": {},
   "outputs": [],
   "source": [
    "#Classes em Python podem implementar determinadas operações com métodos especiais\n",
    "#Ao usar métodos especiais, sua classe poderá ter um comportamento semelhante a um dicionário, \n",
    "#uma função ou mesmo um número\n",
    "#Exemplo de método especial \"__init__\""
   ]
  },
  {
   "cell_type": "code",
   "execution_count": 2,
   "id": "f6baa948",
   "metadata": {},
   "outputs": [],
   "source": [
    "#Criando uma classe Livro\n",
    "class Livro():\n",
    "    def __init__(self, titulo, autor, paginas):\n",
    "        print(\"Livro cirado\")\n",
    "        self.titulo = titulo\n",
    "        self.autor = autor\n",
    "        self.paginas = paginas\n",
    "        \n",
    "    def __str__(self):\n",
    "        return \"Título: %s, autor: %s, páginas: %s\" \\ #Continua o comando em uma nova linha\n",
    "    %(self.titulo, self.autor, self.paginas)\n",
    "    \n",
    "    def __len__(self):\n",
    "        return self.paginas\n",
    "    \n",
    "    def len(self):\n",
    "        return print(\"Páginas do livro com método comum: \", self.paginas)"
   ]
  },
  {
   "cell_type": "code",
   "execution_count": 3,
   "id": "25b9a331",
   "metadata": {},
   "outputs": [
    {
     "name": "stdout",
     "output_type": "stream",
     "text": [
      "Livro cirado\n"
     ]
    }
   ],
   "source": [
    "Livro1 = Livro(\"Os Lusiadas\", \"Luis de Camôes\", 8816)"
   ]
  },
  {
   "cell_type": "code",
   "execution_count": 4,
   "id": "bcecfe95",
   "metadata": {},
   "outputs": [
    {
     "name": "stdout",
     "output_type": "stream",
     "text": [
      "Título: Os Lusiadas, autor: Luis de Camôes, páginas: 8816\n"
     ]
    }
   ],
   "source": [
    "#Métodos especiais\n",
    "print(Livro1)"
   ]
  },
  {
   "cell_type": "code",
   "execution_count": 5,
   "id": "721e1062",
   "metadata": {},
   "outputs": [
    {
     "name": "stdout",
     "output_type": "stream",
     "text": [
      "Título: Os Lusiadas, autor: Luis de Camôes, páginas: 8816\n"
     ]
    }
   ],
   "source": [
    "#Métodos especiais\n",
    "print(Livro1)"
   ]
  },
  {
   "cell_type": "code",
   "execution_count": 7,
   "id": "667af598",
   "metadata": {},
   "outputs": [
    {
     "data": {
      "text/plain": [
       "'Título: Os Lusiadas, autor: Luis de Camôes, páginas: 8816'"
      ]
     },
     "execution_count": 7,
     "metadata": {},
     "output_type": "execute_result"
    }
   ],
   "source": [
    "str(Livro1)"
   ]
  },
  {
   "cell_type": "code",
   "execution_count": 8,
   "id": "b33b8fc6",
   "metadata": {},
   "outputs": [
    {
     "data": {
      "text/plain": [
       "8816"
      ]
     },
     "execution_count": 8,
     "metadata": {},
     "output_type": "execute_result"
    }
   ],
   "source": [
    "len(Livro1)"
   ]
  },
  {
   "cell_type": "code",
   "execution_count": 9,
   "id": "8f82e5a9",
   "metadata": {},
   "outputs": [
    {
     "name": "stdout",
     "output_type": "stream",
     "text": [
      "Páginas do livro com método comum:  8816\n"
     ]
    }
   ],
   "source": [
    "Livro1.len()"
   ]
  },
  {
   "cell_type": "code",
   "execution_count": 11,
   "id": "a2e8efd0",
   "metadata": {},
   "outputs": [],
   "source": [
    "#Ao chamar a função del para remover em atributo, o Python executa:\n",
    "#Livro1._delattr__(\"paginas\")\n",
    "del Livro1.paginas"
   ]
  },
  {
   "cell_type": "code",
   "execution_count": 13,
   "id": "9baafb45",
   "metadata": {},
   "outputs": [
    {
     "data": {
      "text/plain": [
       "False"
      ]
     },
     "execution_count": 13,
     "metadata": {},
     "output_type": "execute_result"
    }
   ],
   "source": [
    "hasattr(Livro1, \"paginas\")"
   ]
  },
  {
   "cell_type": "code",
   "execution_count": null,
   "id": "125dff04",
   "metadata": {},
   "outputs": [],
   "source": []
  }
 ],
 "metadata": {
  "kernelspec": {
   "display_name": "Python 3",
   "language": "python",
   "name": "python3"
  },
  "language_info": {
   "codemirror_mode": {
    "name": "ipython",
    "version": 3
   },
   "file_extension": ".py",
   "mimetype": "text/x-python",
   "name": "python",
   "nbconvert_exporter": "python",
   "pygments_lexer": "ipython3",
   "version": "3.8.8"
  }
 },
 "nbformat": 4,
 "nbformat_minor": 5
}
