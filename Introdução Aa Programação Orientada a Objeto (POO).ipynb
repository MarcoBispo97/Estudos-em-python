{
 "cells": [
  {
   "cell_type": "code",
   "execution_count": 1,
   "id": "48c680ff",
   "metadata": {},
   "outputs": [],
   "source": [
    "#A orientação a objetos é um modelo de análise, projeto e programação de sistemas de software\n",
    "#baseado na composição e interação entre diversas unidades de software chamadas de objetos\n",
    "#POO foi criada para tentar aproximar o mundo real e virtual\n",
    "#Em POO o programador molda o mundo dos objetos e como eles devem interagir entre si\n",
    "#Qual mensagem e ação o objeto deve receber para cada mensagem"
   ]
  },
  {
   "cell_type": "code",
   "execution_count": 2,
   "id": "b9081995",
   "metadata": {},
   "outputs": [],
   "source": [
    "#Programação estruturada:\n",
    "#Sequencia Decisão e Iteração(Repetição)"
   ]
  },
  {
   "cell_type": "code",
   "execution_count": 1,
   "id": "3e70fe4c",
   "metadata": {},
   "outputs": [],
   "source": [
    "#EM POO\n",
    "#Métodos são funções dentro de classes, que tem como objetivo manipular os atributos do objeto\n",
    "#Dentro da clínica vet existe uma classe chamada cachorro que possui atributos, propriedades e métodos\n",
    "#tamanho int, raça string, função \"método\" latir\n",
    "#Após a execução do programa serão criados novos objetos da classe cachorro"
   ]
  },
  {
   "cell_type": "code",
   "execution_count": 2,
   "id": "639f4c00",
   "metadata": {},
   "outputs": [],
   "source": [
    "#A classe é a estrutura básica do paradigma de orientação a objetos,\n",
    "# que representa o tipo do objeto, um modelo a partir do qual os objetos serão criados\n",
    "#Classes são os moldes, o que um objeto deverá ter e como ele deverá se comportar\n",
    "#A classe define a natureza de um tipo de objeto\n",
    "#A partir de classes existem instâncias que são um objeto\n",
    "#EM PYTHON TUDO É UM OBJETO list, tuple, dict, int, float\n",
    "#Objetos são criados a partir da palavra CLASS, criamos uma classe e intanceamos ela\n",
    "#O nome de uma classe começa com letra Maíuscula por definição\n",
    "#Classe carro e objetos(instâncias) as marcas dos carros, características próprias\n"
   ]
  },
  {
   "cell_type": "code",
   "execution_count": 8,
   "id": "2f2906d4",
   "metadata": {},
   "outputs": [],
   "source": [
    "#Criando uma classe chamada Livro:\n",
    "\n",
    "class Livro():\n",
    "    \n",
    "    #Este método vai inicializar cada objeto criado a partir desta classe\n",
    "    #O nome deste método é __init__\n",
    "    #(self) é uma referência a cada atributo de um objeto criado a partir desta classe\n",
    "    def __init__ (self): #Initi vai definir os 2 atributos, funcao construtor\n",
    "        \n",
    "        #Atributos de cada objeto criado a partir desta classe:\n",
    "        #O self indica que estes são atributos dos objetos\n",
    "        self.titulo = 'O Monge e o Executivo'\n",
    "        self.isbn = 998888\n",
    "        print(\"Construtor chamado para criar um objeto desta classe\")\n",
    "        \n",
    "    #Métodos são funções, que recebem como parâmetro atributos do objeto criado\n",
    "    def imprime(self):\n",
    "        print('Foi criado o livro %s e ISBN %d' %(self.titulo, self.isbn))"
   ]
  },
  {
   "cell_type": "code",
   "execution_count": 9,
   "id": "a55a655a",
   "metadata": {},
   "outputs": [
    {
     "name": "stdout",
     "output_type": "stream",
     "text": [
      "Construtor chamado para criar um objeto desta classe\n"
     ]
    }
   ],
   "source": [
    "#Criando uma instância da classe livro\n",
    "Livro1 = Livro()\n",
    "#Nome do objeto Livro1 será do tipo Livro que acabamos de criar"
   ]
  },
  {
   "cell_type": "code",
   "execution_count": 10,
   "id": "2af84322",
   "metadata": {},
   "outputs": [
    {
     "data": {
      "text/plain": [
       "__main__.Livro"
      ]
     },
     "execution_count": 10,
     "metadata": {},
     "output_type": "execute_result"
    }
   ],
   "source": [
    "#Criando uma instância da classe livro\n",
    "type(Livro1)"
   ]
  },
  {
   "cell_type": "code",
   "execution_count": 11,
   "id": "dfc06089",
   "metadata": {},
   "outputs": [
    {
     "data": {
      "text/plain": [
       "'O Monge e o Executivo'"
      ]
     },
     "execution_count": 11,
     "metadata": {},
     "output_type": "execute_result"
    }
   ],
   "source": [
    "#Atributo do objeto Livro1\n",
    "Livro1.titulo"
   ]
  },
  {
   "cell_type": "code",
   "execution_count": 12,
   "id": "c48b407f",
   "metadata": {},
   "outputs": [
    {
     "name": "stdout",
     "output_type": "stream",
     "text": [
      "Foi criado o livro O Monge e o Executivo e ISBN 998888\n"
     ]
    }
   ],
   "source": [
    "Livro1.imprime()"
   ]
  },
  {
   "cell_type": "code",
   "execution_count": 1,
   "id": "9817692c",
   "metadata": {},
   "outputs": [],
   "source": [
    "#Criando a classe Livro com parâmetros no método construtor\n",
    "class Livro():\n",
    "    def __init__(self, titulo, isbn):\n",
    "        self.titulo = titulo\n",
    "        self.isbn = isbn\n",
    "        print(\"Construtor chamado para ciar um objeto desta classe\")\n",
    "    def imprime(self, titulo, isbn):\n",
    "        print(\"Este é o livro %s e ISBN %d\" %(titulo, isbn))\n",
    "        "
   ]
  },
  {
   "cell_type": "code",
   "execution_count": 2,
   "id": "11c2e61b",
   "metadata": {},
   "outputs": [
    {
     "name": "stdout",
     "output_type": "stream",
     "text": [
      "Construtor chamado para ciar um objeto desta classe\n"
     ]
    }
   ],
   "source": [
    "#Criando o objeto Livro2 que é uma istância de classe Livro\n",
    "Livro2 = Livro(\"A menina que Roubava Livros\", 778886611)"
   ]
  },
  {
   "cell_type": "code",
   "execution_count": 4,
   "id": "72615996",
   "metadata": {},
   "outputs": [
    {
     "data": {
      "text/plain": [
       "'A menina que Roubava Livros'"
      ]
     },
     "execution_count": 4,
     "metadata": {},
     "output_type": "execute_result"
    }
   ],
   "source": [
    "Livro2.titulo"
   ]
  },
  {
   "cell_type": "code",
   "execution_count": 5,
   "id": "5d163348",
   "metadata": {},
   "outputs": [
    {
     "name": "stdout",
     "output_type": "stream",
     "text": [
      "Este é o livro A menina que Roubava Livros e ISBN 77886611\n"
     ]
    }
   ],
   "source": [
    "#Método do objeto Livro2\n",
    "Livro2.imprime(\"A menina que Roubava Livros\", 77886611)"
   ]
  },
  {
   "cell_type": "code",
   "execution_count": 6,
   "id": "fd52845d",
   "metadata": {},
   "outputs": [],
   "source": [
    "#Criando a classe cachorro\n",
    "class Cachorro():\n",
    "    def __init__(self, raça):\n",
    "        self.raça = raça\n",
    "        print(\"Construtor chamado para criar um objeto desta classe\")"
   ]
  },
  {
   "cell_type": "code",
   "execution_count": 7,
   "id": "7bac9e0a",
   "metadata": {},
   "outputs": [
    {
     "name": "stdout",
     "output_type": "stream",
     "text": [
      "Construtor chamado para criar um objeto desta classe\n"
     ]
    }
   ],
   "source": [
    "#Criando um objeto a partir da classe cachorro\n",
    "Rex = Cachorro(raça='Labrador')"
   ]
  },
  {
   "cell_type": "code",
   "execution_count": 8,
   "id": "307bcefa",
   "metadata": {},
   "outputs": [
    {
     "name": "stdout",
     "output_type": "stream",
     "text": [
      "Construtor chamado para criar um objeto desta classe\n"
     ]
    }
   ],
   "source": [
    "#Criando um objeto a partir da classe cahorro\n",
    "Golias = Cachorro(raça='Huskie')"
   ]
  },
  {
   "cell_type": "code",
   "execution_count": 9,
   "id": "8a76fdea",
   "metadata": {},
   "outputs": [
    {
     "data": {
      "text/plain": [
       "'Labrador'"
      ]
     },
     "execution_count": 9,
     "metadata": {},
     "output_type": "execute_result"
    }
   ],
   "source": [
    "Rex.raça"
   ]
  },
  {
   "cell_type": "code",
   "execution_count": 10,
   "id": "589b954c",
   "metadata": {},
   "outputs": [
    {
     "data": {
      "text/plain": [
       "'Huskie'"
      ]
     },
     "execution_count": 10,
     "metadata": {},
     "output_type": "execute_result"
    }
   ],
   "source": [
    "Golias.raça"
   ]
  },
  {
   "cell_type": "code",
   "execution_count": null,
   "id": "adc2e000",
   "metadata": {},
   "outputs": [],
   "source": []
  }
 ],
 "metadata": {
  "kernelspec": {
   "display_name": "Python 3",
   "language": "python",
   "name": "python3"
  },
  "language_info": {
   "codemirror_mode": {
    "name": "ipython",
    "version": 3
   },
   "file_extension": ".py",
   "mimetype": "text/x-python",
   "name": "python",
   "nbconvert_exporter": "python",
   "pygments_lexer": "ipython3",
   "version": "3.8.8"
  }
 },
 "nbformat": 4,
 "nbformat_minor": 5
}
