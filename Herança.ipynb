{
 "cells": [
  {
   "cell_type": "code",
   "execution_count": 1,
   "id": "b79b1827",
   "metadata": {},
   "outputs": [],
   "source": [
    "#Herança: é uma forma de gerar novas classes usando classes que foram definidas previamente\n",
    "#Estas novas classes formadas, são chamadas classes derivadas ou sub-classes\n",
    "#A classe que deu origem a sub-classe, é chamada super-classe ou classe base\n",
    "#Um dos principais benefícios da Herança é  a reutilização dde código e a redução da complexidade dos programas\n",
    "#As classes derivadas estendem as funcionalidades das classes base"
   ]
  },
  {
   "cell_type": "code",
   "execution_count": 2,
   "id": "42387e4d",
   "metadata": {},
   "outputs": [],
   "source": [
    "#Criando a classe Animal - Super-Classe\n",
    "class Animal():\n",
    "    \n",
    "    def __init__(self):\n",
    "        print(\"Animal criado\")\n",
    "        \n",
    "    def Identif(self):\n",
    "        print(\"Animal\")\n",
    "        \n",
    "    def comer(self):\n",
    "        print(\"Comendo\")"
   ]
  },
  {
   "cell_type": "code",
   "execution_count": 6,
   "id": "e6304d37",
   "metadata": {},
   "outputs": [],
   "source": [
    "#Criando a classe Cachorro - Sub-classe\n",
    "class Cachorro(Animal):\n",
    "    \n",
    "    def __init__(self):\n",
    "        Animal.__init__(self) #LINKA AS DUAS CLASSES\n",
    "        print(\"Objeto Cachorro criado\")\n",
    "        \n",
    "    def Identif(self):\n",
    "        print(\"Cachorro\")\n",
    "\n",
    "    def latir(self):\n",
    "        print(\"Au Au!\")"
   ]
  },
  {
   "cell_type": "code",
   "execution_count": 7,
   "id": "3875531b",
   "metadata": {},
   "outputs": [
    {
     "name": "stdout",
     "output_type": "stream",
     "text": [
      "Animal criado\n",
      "Objeto Cachorro criado\n"
     ]
    }
   ],
   "source": [
    "#Craindo um objeto (instanciando a classe)\n",
    "rex = Cachorro()"
   ]
  },
  {
   "cell_type": "code",
   "execution_count": 8,
   "id": "70fc4de9",
   "metadata": {},
   "outputs": [
    {
     "name": "stdout",
     "output_type": "stream",
     "text": [
      "Animal criado\n",
      "Objeto Cachorro criado\n"
     ]
    }
   ],
   "source": [
    "#Criando um objeto (Instanciando a classe)\n",
    "rex = Cachorro()"
   ]
  },
  {
   "cell_type": "code",
   "execution_count": 10,
   "id": "11a33018",
   "metadata": {},
   "outputs": [
    {
     "name": "stdout",
     "output_type": "stream",
     "text": [
      "Cachorro\n"
     ]
    }
   ],
   "source": [
    "rex.Identif() #Chama o identif da classe mais específica para ele !"
   ]
  },
  {
   "cell_type": "code",
   "execution_count": 11,
   "id": "44718734",
   "metadata": {},
   "outputs": [
    {
     "name": "stdout",
     "output_type": "stream",
     "text": [
      "Comendo\n"
     ]
    }
   ],
   "source": [
    "rex.comer() #Se houver conflito ele vai usar da classe mais específica"
   ]
  },
  {
   "cell_type": "code",
   "execution_count": 12,
   "id": "dc05b50a",
   "metadata": {},
   "outputs": [
    {
     "name": "stdout",
     "output_type": "stream",
     "text": [
      "Au Au!\n"
     ]
    }
   ],
   "source": [
    "rex.latir()"
   ]
  },
  {
   "cell_type": "code",
   "execution_count": null,
   "id": "139a5208",
   "metadata": {},
   "outputs": [],
   "source": []
  }
 ],
 "metadata": {
  "kernelspec": {
   "display_name": "Python 3",
   "language": "python",
   "name": "python3"
  },
  "language_info": {
   "codemirror_mode": {
    "name": "ipython",
    "version": 3
   },
   "file_extension": ".py",
   "mimetype": "text/x-python",
   "name": "python",
   "nbconvert_exporter": "python",
   "pygments_lexer": "ipython3",
   "version": "3.8.8"
  }
 },
 "nbformat": 4,
 "nbformat_minor": 5
}
