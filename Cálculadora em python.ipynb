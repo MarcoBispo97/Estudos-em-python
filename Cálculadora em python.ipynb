{
 "cells": [
  {
   "cell_type": "raw",
   "id": "49b52e0b",
   "metadata": {},
   "source": [
    " 1 - Qual operação matemática você quer usar (dicionário)\n",
    " 2 - Digite a opção \n",
    " 3 - Gostaria de realizar a operação novamente ? \n",
    " 4 -  Não acaba sim roda novamente\n"
   ]
  },
  {
   "cell_type": "code",
   "execution_count": 31,
   "id": "1389ebec",
   "metadata": {},
   "outputs": [
    {
     "name": "stdout",
     "output_type": "stream",
     "text": [
      "Olá, qual operação você quer realizar ?\n",
      "Soma 1\n",
      "Subtração 2\n",
      "Multiplicação 3\n",
      "Divisão 4\n"
     ]
    }
   ],
   "source": [
    "print('Olá, qual operação você quer realizar ?')\n",
    "\n",
    "operacoes = {'Soma':1, 'Subtração':2, 'Multiplicação':3, 'Divisão':4}\n",
    "for funçao, escolha in operacoes.items():\n",
    "     print(funçao, escolha)"
   ]
  },
  {
   "cell_type": "code",
   "execution_count": null,
   "id": "24902e4e",
   "metadata": {},
   "outputs": [
    {
     "name": "stdout",
     "output_type": "stream",
     "text": [
      "Digite sua opção (1/2/3/4): 5\n",
      "Digite o primeiro número: 50\n",
      "Digite o segundo número: 70\n",
      "Número inválido\n",
      "\n",
      "Cálculo feito\n",
      "\n",
      "Deseja fazer outra conta ?\n"
     ]
    }
   ],
   "source": [
    "option = '1'\n",
    "\n",
    "while option == '1':\n",
    "    \n",
    "    opr = input('Digite sua opção (1/2/3/4): ')\n",
    "\n",
    "    a = int(input('Digite o primeiro número: '))\n",
    "\n",
    "    b = int(input('Digite o segundo número: '))\n",
    "    \n",
    "    if opr == '1': \n",
    "        sub = a+b\n",
    "        print(sum,'=',a,'+',b)\n",
    "    \n",
    "    elif opr == '2':\n",
    "        sub = a-b\n",
    "        print(sub,'=',a,'-',b)\n",
    "    \n",
    "    elif opr == '3':\n",
    "        mul = a*b\n",
    "        print(mul,'=',a,'*',b)\n",
    "    \n",
    "    elif opr == '4':\n",
    "        div = a/b\n",
    "        print(div,'=',a,'/',b)\n",
    "    \n",
    "    else:\n",
    "        print('Número inválido')\n",
    "     \n",
    "    print(\"\\nCálculo feito\\n\")\n",
    "    print(\"Deseja fazer outra conta ?\")\n",
    "    \n",
    "    option = input(\"1. Sim\\n2. Não\\n=> \")\n",
    "        \n",
    "print(\"Você decidiu sair!\")\n"
   ]
  },
  {
   "cell_type": "code",
   "execution_count": null,
   "id": "44512e1e",
   "metadata": {},
   "outputs": [],
   "source": []
  }
 ],
 "metadata": {
  "kernelspec": {
   "display_name": "Python 3",
   "language": "python",
   "name": "python3"
  },
  "language_info": {
   "codemirror_mode": {
    "name": "ipython",
    "version": 3
   },
   "file_extension": ".py",
   "mimetype": "text/x-python",
   "name": "python",
   "nbconvert_exporter": "python",
   "pygments_lexer": "ipython3",
   "version": "3.8.8"
  }
 },
 "nbformat": 4,
 "nbformat_minor": 5
}
