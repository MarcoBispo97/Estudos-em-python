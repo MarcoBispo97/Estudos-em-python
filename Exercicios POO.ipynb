{
 "cells": [
  {
   "cell_type": "code",
   "execution_count": 28,
   "id": "97119d4f",
   "metadata": {},
   "outputs": [],
   "source": [
    "#Exercício 1 - Crie um objeto a partir da classe abaixo, chamado rac1, passando 2 parâmetros e depois faça uma chamada\n",
    "#Aos atributos e métodos\n",
    "from math import sqrt\n",
    "\n",
    "class Rocket():\n",
    "    \n",
    "    def __init__(self, x=0, y=0):\n",
    "        self.x = x\n",
    "        self.y = y\n",
    "    \n",
    "    def move_rocket(self, x_increment=0, y_increment=1):\n",
    "        self.x += x_increment\n",
    "        self.y += y_increment\n",
    "        \n",
    "    def print_rocket(self):\n",
    "        print(self.x, self.y)"
   ]
  },
  {
   "cell_type": "code",
   "execution_count": 49,
   "id": "9167c530",
   "metadata": {},
   "outputs": [],
   "source": [
    "#Criando um objeto\n",
    "roc1 = Rocket(10,11)"
   ]
  },
  {
   "cell_type": "code",
   "execution_count": 50,
   "id": "8c945e45",
   "metadata": {},
   "outputs": [
    {
     "data": {
      "text/plain": [
       "10"
      ]
     },
     "execution_count": 50,
     "metadata": {},
     "output_type": "execute_result"
    }
   ],
   "source": [
    "#Chamada dos atributos\n",
    "roc1.x"
   ]
  },
  {
   "cell_type": "code",
   "execution_count": 51,
   "id": "bcf6e6bf",
   "metadata": {},
   "outputs": [
    {
     "data": {
      "text/plain": [
       "11"
      ]
     },
     "execution_count": 51,
     "metadata": {},
     "output_type": "execute_result"
    }
   ],
   "source": [
    "roc1.y"
   ]
  },
  {
   "cell_type": "code",
   "execution_count": 52,
   "id": "460aa95b",
   "metadata": {},
   "outputs": [
    {
     "data": {
      "text/plain": [
       "10"
      ]
     },
     "execution_count": 52,
     "metadata": {},
     "output_type": "execute_result"
    }
   ],
   "source": [
    "roc1.x"
   ]
  },
  {
   "cell_type": "code",
   "execution_count": 41,
   "id": "a2359555",
   "metadata": {},
   "outputs": [],
   "source": [
    "#Exercíco 2 - Crie uma classe chamada Pessoa() com os atributos: nome, cidade, telefone e e-mail. Use pelo menos 2\n",
    "#métodos especiais na sua classe. Crie um objeto da sua classe e faça uma chamada a pelo menos um dos seus métodos especiais\n",
    "\n",
    "class Pessoa():\n",
    "    def __init__(self,nome,cidade,telefone,email):\n",
    "        self.nome = nome\n",
    "        self.cidade = cidade\n",
    "        self.telefone = telefone\n",
    "        self.email = email\n",
    "    \n",
    "    def __len__(self):\n",
    "        return self.telefone\n",
    "    \n",
    "    def __str__(self):\n",
    "        return \"nome: %s, cidade: %s, telefone: %s, email: %s\"%(self.nome, self.cidade, self.telefone, self.email)\n",
    "        \n",
    "    "
   ]
  },
  {
   "cell_type": "code",
   "execution_count": 42,
   "id": "2f2e1688",
   "metadata": {},
   "outputs": [],
   "source": [
    "Fulano = Pessoa('Fulano','ITU',12345678,'fulano@gmail.com')"
   ]
  },
  {
   "cell_type": "code",
   "execution_count": 43,
   "id": "3ef009c1",
   "metadata": {},
   "outputs": [
    {
     "data": {
      "text/plain": [
       "12345678"
      ]
     },
     "execution_count": 43,
     "metadata": {},
     "output_type": "execute_result"
    }
   ],
   "source": [
    "len(Fulano)"
   ]
  },
  {
   "cell_type": "code",
   "execution_count": 44,
   "id": "2a957e8b",
   "metadata": {},
   "outputs": [
    {
     "data": {
      "text/plain": [
       "'nome: Fulano, cidade: ITU, telefone: 12345678, email: fulano@gmail.com'"
      ]
     },
     "execution_count": 44,
     "metadata": {},
     "output_type": "execute_result"
    }
   ],
   "source": [
    "str(Fulano)"
   ]
  },
  {
   "cell_type": "code",
   "execution_count": 45,
   "id": "af9331f1",
   "metadata": {},
   "outputs": [],
   "source": [
    "#Exercício 3 - Crie a classe Smartphone com 2 atributos, tamanho e interface e crie a classe MP3Player com os \n",
    "#atributos capacidade, a classe MP3player deve herdar os atributos da classe SMARTPHONE\n",
    "\n",
    "\n"
   ]
  },
  {
   "cell_type": "code",
   "execution_count": 53,
   "id": "1764785d",
   "metadata": {},
   "outputs": [],
   "source": [
    "#Classe smartphone:\n",
    "\n",
    "class smartphone:\n",
    "#2 atributos\n",
    "    def __init__(self,nome,cidade,telefone,email):\n",
    "        self.tamanho = tamanho\n",
    "        self.interface = interface\n",
    "\n",
    "class MP3Player:\n",
    "#2 atributos\n",
    "    def __init__(self,capacidade, tamanho = 'Pequeno', interface = 'Led'):\n",
    "        smartphone.__init__(self, tamanho, interface)\n",
    "        self.capacidade = tamanho\n",
    "    \n",
    "    def print_MP3Player(self):\n",
    "        print(\"Valores para o objeto\")"
   ]
  },
  {
   "cell_type": "code",
   "execution_count": null,
   "id": "88fa7835",
   "metadata": {},
   "outputs": [],
   "source": []
  }
 ],
 "metadata": {
  "kernelspec": {
   "display_name": "Python 3",
   "language": "python",
   "name": "python3"
  },
  "language_info": {
   "codemirror_mode": {
    "name": "ipython",
    "version": 3
   },
   "file_extension": ".py",
   "mimetype": "text/x-python",
   "name": "python",
   "nbconvert_exporter": "python",
   "pygments_lexer": "ipython3",
   "version": "3.8.8"
  }
 },
 "nbformat": 4,
 "nbformat_minor": 5
}
