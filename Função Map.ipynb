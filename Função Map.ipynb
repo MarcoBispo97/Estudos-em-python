{
 "cells": [
  {
   "cell_type": "code",
   "execution_count": 18,
   "id": "5f317030",
   "metadata": {},
   "outputs": [],
   "source": [
    "#Função Map"
   ]
  },
  {
   "cell_type": "code",
   "execution_count": 19,
   "id": "222e3524",
   "metadata": {},
   "outputs": [],
   "source": [
    "# A lingugaem em python fornece váruas funções que permitem uma abordagem \n",
    "# funcional à programação, oferecendo mais facilidade na criação do seu código \n",
    "# Podemos dizer que a programação funcional é uma programaçaõ orientada à expressão"
   ]
  },
  {
   "cell_type": "code",
   "execution_count": 20,
   "id": "cc98cf12",
   "metadata": {},
   "outputs": [],
   "source": [
    "# Algumas funções orientadas à expressão, em Python:\n",
    "\n",
    "#Map(Função, Sequência)\n",
    "#reduce(Função, Sequência)\n",
    "#filter(Função, Sequência)\n",
    "#lambda\n",
    "#list comprehension"
   ]
  },
  {
   "cell_type": "code",
   "execution_count": 21,
   "id": "0216abe6",
   "metadata": {},
   "outputs": [
    {
     "data": {
      "text/plain": [
       "[1, 4, 9, 16, 25]"
      ]
     },
     "execution_count": 21,
     "metadata": {},
     "output_type": "execute_result"
    }
   ],
   "source": [
    "lista = [1,2,3,4,5]\n",
    "quadrados = []\n",
    "\n",
    "for x in lista:\n",
    "    quadrados.append(x**2)\n",
    "    \n",
    "quadrados"
   ]
  },
  {
   "cell_type": "code",
   "execution_count": 22,
   "id": "8ab648ec",
   "metadata": {},
   "outputs": [],
   "source": [
    "#Como pode ser uma função comum o python oferece a função interna Built in que faz a maior parte do trabalho por nós:\n",
    "    \n",
    "#Map é uma função que recebe 2 argumentos, função e sequência\n",
    "\n",
    "#map() aplica a função que \n",
    "    \n",
    "    "
   ]
  },
  {
   "cell_type": "markdown",
   "id": "100689ea",
   "metadata": {},
   "source": [
    "# Map"
   ]
  },
  {
   "cell_type": "code",
   "execution_count": 23,
   "id": "7b78810c",
   "metadata": {},
   "outputs": [],
   "source": [
    "#Criando duas funções\n",
    "\n",
    "#Função 1 - Recebe uma temperatura como parâmetro e retorna a temperatura em Fahrenheit\n",
    "def fahrenheit(T):\n",
    "    return((float(9)/5)*T + 32)\n",
    "\n",
    "#Função 2 - Recebe uma temperatura como parâmetro e retorna a temperatura em Celsius\n",
    "def celsius(T):\n",
    "    return (float(5)/9)*(T-32)"
   ]
  },
  {
   "cell_type": "code",
   "execution_count": 24,
   "id": "e57c8c3f",
   "metadata": {},
   "outputs": [],
   "source": [
    "#Criando uma lista\n",
    "temperatura = [0, 22.5, 40, 100]"
   ]
  },
  {
   "cell_type": "code",
   "execution_count": 25,
   "id": "22b89466",
   "metadata": {},
   "outputs": [
    {
     "data": {
      "text/plain": [
       "<map at 0x1e7346a84f0>"
      ]
     },
     "execution_count": 25,
     "metadata": {},
     "output_type": "execute_result"
    }
   ],
   "source": [
    "#Aplicando a função a cada elemento da lista de temperatura.\n",
    "#Em python 3, a função map() retorna um interator <map at 0x1e7345b6880> e não o resultado\n",
    "map(fahrenheit, temperatura)"
   ]
  },
  {
   "cell_type": "code",
   "execution_count": 26,
   "id": "6545b74d",
   "metadata": {},
   "outputs": [
    {
     "data": {
      "text/plain": [
       "[32.0, 72.5, 104.0, 212.0]"
      ]
     },
     "execution_count": 26,
     "metadata": {},
     "output_type": "execute_result"
    }
   ],
   "source": [
    "#Função map() retornando a lista de temperatura convertidas em fahrenheit\n",
    "list(map(fahrenheit, temperatura))"
   ]
  },
  {
   "cell_type": "code",
   "execution_count": 27,
   "id": "d4ade4b8",
   "metadata": {},
   "outputs": [
    {
     "name": "stdout",
     "output_type": "stream",
     "text": [
      "32.0\n",
      "72.5\n",
      "104.0\n",
      "212.0\n"
     ]
    }
   ],
   "source": [
    "#Usando um loop for para imprimir o resultado da função map()\n",
    "for temp in map(fahrenheit, temperatura):\n",
    "    print(temp)"
   ]
  },
  {
   "cell_type": "code",
   "execution_count": 28,
   "id": "f6c4a58a",
   "metadata": {},
   "outputs": [
    {
     "data": {
      "text/plain": [
       "[-17.77777777777778, -5.277777777777778, 4.444444444444445, 37.77777777777778]"
      ]
     },
     "execution_count": 28,
     "metadata": {},
     "output_type": "execute_result"
    }
   ],
   "source": [
    "#Convertenco para Celsius:\n",
    "list(map(celsius, temperatura))"
   ]
  },
  {
   "cell_type": "code",
   "execution_count": 29,
   "id": "d26da9c5",
   "metadata": {},
   "outputs": [
    {
     "name": "stdout",
     "output_type": "stream",
     "text": [
      "-17.77777777777778\n",
      "-5.277777777777778\n",
      "4.444444444444445\n",
      "37.77777777777778\n"
     ]
    }
   ],
   "source": [
    "for temp in map(celsius, temperatura):\n",
    "    print(temp)"
   ]
  },
  {
   "cell_type": "code",
   "execution_count": 30,
   "id": "09e29333",
   "metadata": {},
   "outputs": [
    {
     "data": {
      "text/plain": [
       "<map at 0x1e7346a8250>"
      ]
     },
     "execution_count": 30,
     "metadata": {},
     "output_type": "execute_result"
    }
   ],
   "source": [
    "# Usando lambda\n",
    "map(lambda x: (5.0/9)*(x - 32), temperatura)"
   ]
  },
  {
   "cell_type": "code",
   "execution_count": 31,
   "id": "d1d7b23b",
   "metadata": {},
   "outputs": [
    {
     "data": {
      "text/plain": [
       "[-17.77777777777778, -5.277777777777778, 4.444444444444445, 37.77777777777778]"
      ]
     },
     "execution_count": 31,
     "metadata": {},
     "output_type": "execute_result"
    }
   ],
   "source": [
    "list(map(lambda x: (5.0/9)*(x - 32), temperatura))"
   ]
  },
  {
   "cell_type": "code",
   "execution_count": 32,
   "id": "30b90bb2",
   "metadata": {},
   "outputs": [],
   "source": [
    "#Somando os elementos de 2 listas\n",
    "a = [1,2,3,4]\n",
    "b = [5,6,7,8]"
   ]
  },
  {
   "cell_type": "code",
   "execution_count": 33,
   "id": "4aa458d5",
   "metadata": {},
   "outputs": [
    {
     "data": {
      "text/plain": [
       "[6, 8, 10, 12]"
      ]
     },
     "execution_count": 33,
     "metadata": {},
     "output_type": "execute_result"
    }
   ],
   "source": [
    "list(map(lambda x,y:x+y, a, b))"
   ]
  },
  {
   "cell_type": "code",
   "execution_count": 34,
   "id": "23ef0934",
   "metadata": {},
   "outputs": [],
   "source": [
    "a = [1,2,3,4]\n",
    "b = [5,6,7,8]\n",
    "c = [9,10,11,12]"
   ]
  },
  {
   "cell_type": "code",
   "execution_count": 35,
   "id": "d370fc89",
   "metadata": {},
   "outputs": [
    {
     "data": {
      "text/plain": [
       "[15, 18, 21, 24]"
      ]
     },
     "execution_count": 35,
     "metadata": {},
     "output_type": "execute_result"
    }
   ],
   "source": [
    "list(map(lambda x,y,z:x+y+z, a, b, c))"
   ]
  },
  {
   "cell_type": "markdown",
   "id": "9c4221a8",
   "metadata": {},
   "source": [
    "# Fim"
   ]
  }
 ],
 "metadata": {
  "kernelspec": {
   "display_name": "Python 3",
   "language": "python",
   "name": "python3"
  },
  "language_info": {
   "codemirror_mode": {
    "name": "ipython",
    "version": 3
   },
   "file_extension": ".py",
   "mimetype": "text/x-python",
   "name": "python",
   "nbconvert_exporter": "python",
   "pygments_lexer": "ipython3",
   "version": "3.8.8"
  }
 },
 "nbformat": 4,
 "nbformat_minor": 5
}
