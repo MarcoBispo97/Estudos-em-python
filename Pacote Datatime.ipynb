{
 "cells": [
  {
   "cell_type": "markdown",
   "id": "35bbc172",
   "metadata": {},
   "source": [
    "# Manipulação de datas em pithon"
   ]
  },
  {
   "cell_type": "code",
   "execution_count": 2,
   "id": "199bea91",
   "metadata": {},
   "outputs": [],
   "source": [
    "import datetime"
   ]
  },
  {
   "cell_type": "code",
   "execution_count": 3,
   "id": "e634912f",
   "metadata": {},
   "outputs": [],
   "source": [
    "agora = datetime.datetime.now()"
   ]
  },
  {
   "cell_type": "code",
   "execution_count": 9,
   "id": "9f33a478",
   "metadata": {},
   "outputs": [
    {
     "data": {
      "text/plain": [
       "datetime.datetime(2021, 9, 15, 18, 40, 43, 881488)"
      ]
     },
     "execution_count": 9,
     "metadata": {},
     "output_type": "execute_result"
    }
   ],
   "source": [
    "agora"
   ]
  },
  {
   "cell_type": "code",
   "execution_count": 11,
   "id": "4a4ad97d",
   "metadata": {},
   "outputs": [],
   "source": [
    "t = datetime.datetime(2018, 4, 5, 13, 57, 49, 506924)"
   ]
  },
  {
   "cell_type": "code",
   "execution_count": 12,
   "id": "0486d70f",
   "metadata": {},
   "outputs": [
    {
     "name": "stdout",
     "output_type": "stream",
     "text": [
      "2018-04-05 13:57:49.506924\n"
     ]
    }
   ],
   "source": [
    "print(t)"
   ]
  },
  {
   "cell_type": "code",
   "execution_count": 14,
   "id": "57a265a0",
   "metadata": {},
   "outputs": [
    {
     "name": "stdout",
     "output_type": "stream",
     "text": [
      "Hora : 13\n",
      "Minutos : 57\n",
      "Segundos : 49\n",
      "Microsegundos : 506924\n"
     ]
    }
   ],
   "source": [
    "print('Hora :', t.hour)\n",
    "print('Minutos :', t.minute)\n",
    "print('Segundos :', t.second)\n",
    "print('Microsegundos :', t.microsecond)"
   ]
  },
  {
   "cell_type": "code",
   "execution_count": 15,
   "id": "21e0920b",
   "metadata": {},
   "outputs": [
    {
     "name": "stdout",
     "output_type": "stream",
     "text": [
      "00:00:00\n"
     ]
    }
   ],
   "source": [
    "print(datetime.time.min)"
   ]
  },
  {
   "cell_type": "code",
   "execution_count": 16,
   "id": "5f7cffc8",
   "metadata": {},
   "outputs": [],
   "source": [
    "hoje = datetime.date.today()"
   ]
  },
  {
   "cell_type": "code",
   "execution_count": 17,
   "id": "fac72f0e",
   "metadata": {},
   "outputs": [
    {
     "name": "stdout",
     "output_type": "stream",
     "text": [
      "2021-09-15\n",
      "ctime Wed Sep 15 00:00:00 2021\n",
      "Ano:  2021\n",
      "Mês:  9\n",
      "Dia: 15\n"
     ]
    }
   ],
   "source": [
    "print (hoje)\n",
    "print ('ctime', hoje.ctime())\n",
    "print ('Ano: ', hoje.year)\n",
    "print ('Mês: ', hoje.month)\n",
    "print ('Dia:', hoje.day)"
   ]
  },
  {
   "cell_type": "code",
   "execution_count": 19,
   "id": "b9e10258",
   "metadata": {},
   "outputs": [
    {
     "name": "stdout",
     "output_type": "stream",
     "text": [
      "dl: 2015-04-28\n"
     ]
    }
   ],
   "source": [
    "dl = datetime.date(2015, 4, 28)\n",
    "print ('dl:', dl)"
   ]
  },
  {
   "cell_type": "code",
   "execution_count": 22,
   "id": "f01f011a",
   "metadata": {},
   "outputs": [
    {
     "name": "stdout",
     "output_type": "stream",
     "text": [
      "d2: 2015-04-28\n"
     ]
    }
   ],
   "source": [
    "d2 = dl.replace(year=2016)\n",
    "print ('d2:', dl)"
   ]
  },
  {
   "cell_type": "code",
   "execution_count": 21,
   "id": "b94ed610",
   "metadata": {},
   "outputs": [],
   "source": []
  },
  {
   "cell_type": "code",
   "execution_count": null,
   "id": "905d81ee",
   "metadata": {},
   "outputs": [],
   "source": []
  }
 ],
 "metadata": {
  "kernelspec": {
   "display_name": "Python 3",
   "language": "python",
   "name": "python3"
  },
  "language_info": {
   "codemirror_mode": {
    "name": "ipython",
    "version": 3
   },
   "file_extension": ".py",
   "mimetype": "text/x-python",
   "name": "python",
   "nbconvert_exporter": "python",
   "pygments_lexer": "ipython3",
   "version": "3.8.8"
  }
 },
 "nbformat": 4,
 "nbformat_minor": 5
}
