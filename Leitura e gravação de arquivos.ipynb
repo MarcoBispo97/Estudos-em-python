{
 "cells": [
  {
   "cell_type": "code",
   "execution_count": 6,
   "id": "57ccbd1d",
   "metadata": {},
   "outputs": [],
   "source": [
    "# Abrindo o arquivo para a leitura\n",
    "arq1 = open(\"Arquivos/arquivo.txt\", \"r\") \n",
    "#r de read, leitura\n",
    "#enventualmente poderia colocar o caminho completo do arquivo"
   ]
  },
  {
   "cell_type": "code",
   "execution_count": 9,
   "id": "10eda27a",
   "metadata": {},
   "outputs": [
    {
     "name": "stdout",
     "output_type": "stream",
     "text": [
      "\n"
     ]
    }
   ],
   "source": [
    "# lendo o arquivo\n",
    "print(arq1.read())"
   ]
  },
  {
   "cell_type": "code",
   "execution_count": 10,
   "id": "d7c59e95",
   "metadata": {},
   "outputs": [
    {
     "name": "stdout",
     "output_type": "stream",
     "text": [
      "31\n"
     ]
    }
   ],
   "source": [
    "# Contar o número de caracteres\n",
    "print(arq1.tell())"
   ]
  },
  {
   "cell_type": "code",
   "execution_count": 11,
   "id": "d7bf18e6",
   "metadata": {},
   "outputs": [
    {
     "name": "stdout",
     "output_type": "stream",
     "text": [
      "0\n"
     ]
    }
   ],
   "source": [
    "#Retorna para o início do arquivo\n",
    "print(arq1.seek(0,0))"
   ]
  },
  {
   "cell_type": "code",
   "execution_count": 12,
   "id": "8cd77470",
   "metadata": {},
   "outputs": [
    {
     "name": "stdout",
     "output_type": "stream",
     "text": [
      "Python e u\n"
     ]
    }
   ],
   "source": [
    "#ler os 10 primeiros caracteres\n",
    "print(arq1.read(10))"
   ]
  },
  {
   "cell_type": "markdown",
   "id": "04c44da9",
   "metadata": {},
   "source": [
    "Gravando Arquivos\n"
   ]
  },
  {
   "cell_type": "code",
   "execution_count": 13,
   "id": "6150cf36",
   "metadata": {},
   "outputs": [],
   "source": [
    "#Abrindo arquivos para a gravação\n",
    "arq2 = open(\"Arquivos/arquivo.txt\", \"w\") "
   ]
  },
  {
   "cell_type": "code",
   "execution_count": 14,
   "id": "8ea63a86",
   "metadata": {},
   "outputs": [
    {
     "ename": "UnsupportedOperation",
     "evalue": "not readable",
     "output_type": "error",
     "traceback": [
      "\u001b[1;31m---------------------------------------------------------------------------\u001b[0m",
      "\u001b[1;31mUnsupportedOperation\u001b[0m                      Traceback (most recent call last)",
      "\u001b[1;32m<ipython-input-14-89f4fb05a853>\u001b[0m in \u001b[0;36m<module>\u001b[1;34m\u001b[0m\n\u001b[0;32m      1\u001b[0m \u001b[1;31m#Como abrimos o arquivo apenas para gravação NÂO podemos usar os comonandos de leitura.\u001b[0m\u001b[1;33m\u001b[0m\u001b[1;33m\u001b[0m\u001b[1;33m\u001b[0m\u001b[0m\n\u001b[1;32m----> 2\u001b[1;33m \u001b[0mprint\u001b[0m\u001b[1;33m(\u001b[0m\u001b[0marq2\u001b[0m\u001b[1;33m.\u001b[0m\u001b[0mread\u001b[0m\u001b[1;33m(\u001b[0m\u001b[1;33m)\u001b[0m\u001b[1;33m)\u001b[0m\u001b[1;33m\u001b[0m\u001b[1;33m\u001b[0m\u001b[0m\n\u001b[0m",
      "\u001b[1;31mUnsupportedOperation\u001b[0m: not readable"
     ]
    }
   ],
   "source": [
    "#Como abrimos o arquivo apenas para gravação NÂO podemos usar os comonandos de leitura.\n",
    "print(arq2.read())"
   ]
  },
  {
   "cell_type": "code",
   "execution_count": 15,
   "id": "02632119",
   "metadata": {},
   "outputs": [
    {
     "data": {
      "text/plain": [
       "40"
      ]
     },
     "execution_count": 15,
     "metadata": {},
     "output_type": "execute_result"
    }
   ],
   "source": [
    "#Gravando arquivo\n",
    "arq2.write(\"Testando gravação de arquivos em Python \")"
   ]
  },
  {
   "cell_type": "code",
   "execution_count": 16,
   "id": "7cc59eb5",
   "metadata": {},
   "outputs": [],
   "source": [
    "#Fechar o acesso ao arquivo\n",
    "arq2.close()"
   ]
  },
  {
   "cell_type": "code",
   "execution_count": 17,
   "id": "4f92eb2c",
   "metadata": {},
   "outputs": [],
   "source": [
    "#Lendo arquivo gravado\n",
    "arq2 = open(\"Arquivos/arquivo.txt\", \"r\")"
   ]
  },
  {
   "cell_type": "code",
   "execution_count": 18,
   "id": "3b741af6",
   "metadata": {},
   "outputs": [
    {
     "name": "stdout",
     "output_type": "stream",
     "text": [
      "Testando gravação de arquivos em Python \n"
     ]
    }
   ],
   "source": [
    "print(arq2.read())"
   ]
  },
  {
   "cell_type": "code",
   "execution_count": 19,
   "id": "3de3d191",
   "metadata": {},
   "outputs": [],
   "source": [
    "#Acrescentando conteúdo\n",
    "arq2 = open(\"Arquivos/arquivo.txt\", \"a\")\n",
    "#ao ines de sobrescrever eu acrescento conteudo, modo apend\n"
   ]
  },
  {
   "cell_type": "code",
   "execution_count": 21,
   "id": "dc5db987",
   "metadata": {},
   "outputs": [
    {
     "data": {
      "text/plain": [
       "23"
      ]
     },
     "execution_count": 21,
     "metadata": {},
     "output_type": "execute_result"
    }
   ],
   "source": [
    "arq2.write(\" Acrescentando conteúdo\")"
   ]
  },
  {
   "cell_type": "code",
   "execution_count": 22,
   "id": "99b41611",
   "metadata": {},
   "outputs": [],
   "source": [
    "arq2 = open(\"Arquivos/arquivo.txt\", \"r\")"
   ]
  },
  {
   "cell_type": "code",
   "execution_count": 23,
   "id": "de7445a4",
   "metadata": {},
   "outputs": [
    {
     "name": "stdout",
     "output_type": "stream",
     "text": [
      "Testando gravação de arquivos em Python Acrescentando conteúdo Acrescentando conteúdo\n"
     ]
    }
   ],
   "source": [
    "print(arq2.read())"
   ]
  },
  {
   "cell_type": "code",
   "execution_count": null,
   "id": "f0a4c8d4",
   "metadata": {},
   "outputs": [],
   "source": []
  }
 ],
 "metadata": {
  "kernelspec": {
   "display_name": "Python 3",
   "language": "python",
   "name": "python3"
  },
  "language_info": {
   "codemirror_mode": {
    "name": "ipython",
    "version": 3
   },
   "file_extension": ".py",
   "mimetype": "text/x-python",
   "name": "python",
   "nbconvert_exporter": "python",
   "pygments_lexer": "ipython3",
   "version": "3.8.8"
  }
 },
 "nbformat": 4,
 "nbformat_minor": 5
}
