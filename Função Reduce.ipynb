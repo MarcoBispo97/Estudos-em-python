{
 "cells": [
  {
   "cell_type": "code",
   "execution_count": 2,
   "id": "a1bac5a5",
   "metadata": {},
   "outputs": [],
   "source": [
    "# Importando a função reduce do módulo Functools\n",
    "from functools import reduce"
   ]
  },
  {
   "cell_type": "code",
   "execution_count": 3,
   "id": "2bdde2d8",
   "metadata": {},
   "outputs": [],
   "source": [
    "# Criando uma lista\n",
    "lista = [47,11,42,13]"
   ]
  },
  {
   "cell_type": "code",
   "execution_count": 6,
   "id": "54d5dfd6",
   "metadata": {},
   "outputs": [
    {
     "data": {
      "text/plain": [
       "[47, 11, 42, 13]"
      ]
     },
     "execution_count": 6,
     "metadata": {},
     "output_type": "execute_result"
    }
   ],
   "source": [
    "lista"
   ]
  },
  {
   "cell_type": "code",
   "execution_count": 11,
   "id": "b1b28b84",
   "metadata": {},
   "outputs": [],
   "source": [
    "#Função\n",
    "def soma(a,b):\n",
    "    x = a + b\n",
    "    return x"
   ]
  },
  {
   "cell_type": "code",
   "execution_count": 12,
   "id": "e7109972",
   "metadata": {},
   "outputs": [
    {
     "data": {
      "text/plain": [
       "113"
      ]
     },
     "execution_count": 12,
     "metadata": {},
     "output_type": "execute_result"
    }
   ],
   "source": [
    "#Usando reduce com uma função e uma lista. \n",
    "#A função vai retornar o valor máximo\n",
    "reduce(soma, lista)"
   ]
  },
  {
   "cell_type": "code",
   "execution_count": 13,
   "id": "6a52c442",
   "metadata": {},
   "outputs": [],
   "source": [
    "# Criando uma lista\n",
    "lst = [47,11,42,13]"
   ]
  },
  {
   "cell_type": "code",
   "execution_count": 14,
   "id": "a3cc2f8e",
   "metadata": {},
   "outputs": [
    {
     "data": {
      "text/plain": [
       "113"
      ]
     },
     "execution_count": 14,
     "metadata": {},
     "output_type": "execute_result"
    }
   ],
   "source": [
    "# Usando a função reduce() com lambda\n",
    "reduce(lambda x,y: x+y, lst)"
   ]
  },
  {
   "cell_type": "code",
   "execution_count": 18,
   "id": "351a40a4",
   "metadata": {},
   "outputs": [],
   "source": [
    "#Podemos ainda atribuir a expressão lamda a uma variável\n",
    "max_find2 = lambda a,b: a if (a>b) else b"
   ]
  },
  {
   "cell_type": "code",
   "execution_count": 19,
   "id": "a0790ab7",
   "metadata": {},
   "outputs": [
    {
     "data": {
      "text/plain": [
       "function"
      ]
     },
     "execution_count": 19,
     "metadata": {},
     "output_type": "execute_result"
    }
   ],
   "source": [
    "type (max_find2)"
   ]
  },
  {
   "cell_type": "code",
   "execution_count": 21,
   "id": "72dea94e",
   "metadata": {},
   "outputs": [
    {
     "data": {
      "text/plain": [
       "47"
      ]
     },
     "execution_count": 21,
     "metadata": {},
     "output_type": "execute_result"
    }
   ],
   "source": [
    "#Reduzindo a lista até o valor máximo da função criada \n",
    "#com a expressão lambda\n",
    "reduce(max_find2, lst)"
   ]
  },
  {
   "cell_type": "code",
   "execution_count": null,
   "id": "2531e6e6",
   "metadata": {},
   "outputs": [],
   "source": []
  }
 ],
 "metadata": {
  "kernelspec": {
   "display_name": "Python 3",
   "language": "python",
   "name": "python3"
  },
  "language_info": {
   "codemirror_mode": {
    "name": "ipython",
    "version": 3
   },
   "file_extension": ".py",
   "mimetype": "text/x-python",
   "name": "python",
   "nbconvert_exporter": "python",
   "pygments_lexer": "ipython3",
   "version": "3.8.8"
  }
 },
 "nbformat": 4,
 "nbformat_minor": 5
}
