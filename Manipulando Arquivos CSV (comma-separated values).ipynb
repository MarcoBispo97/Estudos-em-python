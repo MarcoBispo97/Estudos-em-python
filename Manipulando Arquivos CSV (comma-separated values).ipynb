{
 "cells": [
  {
   "cell_type": "markdown",
   "id": "55dccd5a",
   "metadata": {},
   "source": [
    "# Manipulando Arquivos CSV (comma-separated values)"
   ]
  },
  {
   "cell_type": "code",
   "execution_count": 10,
   "id": "264ead18",
   "metadata": {},
   "outputs": [],
   "source": [
    "#importando um módulo csv, vc pode encontrar com outros módulos separadores\n",
    "import csv"
   ]
  },
  {
   "cell_type": "code",
   "execution_count": 13,
   "id": "128a17c7",
   "metadata": {},
   "outputs": [],
   "source": [
    "with open('Arquivos/numeros.csv', 'w') as arquivo:\n",
    "    writer = csv.writer(arquivo)\n",
    "    writer.writerow(('primeira','segunda','terceira'))\n",
    "    writer.writerow((55,93,76))\n",
    "    writer.writerow((62,14,86))"
   ]
  },
  {
   "cell_type": "code",
   "execution_count": 14,
   "id": "f0765029",
   "metadata": {},
   "outputs": [
    {
     "name": "stdout",
     "output_type": "stream",
     "text": [
      "Número de colunas: 3\n",
      "['primeira', 'segunda', 'terceira']\n",
      "Número de colunas: 0\n",
      "[]\n",
      "Número de colunas: 3\n",
      "['55', '93', '76']\n",
      "Número de colunas: 0\n",
      "[]\n",
      "Número de colunas: 3\n",
      "['62', '14', '86']\n",
      "Número de colunas: 0\n",
      "[]\n"
     ]
    }
   ],
   "source": [
    "#Leitura do arquivo csv\n",
    "with open('arquivos/numeros.csv', 'r') as arquivo:\n",
    "    leitor = csv.reader(arquivo)\n",
    "    for x in leitor:\n",
    "        print(\"Número de colunas:\", len(x))\n",
    "        print(x)"
   ]
  },
  {
   "cell_type": "code",
   "execution_count": 19,
   "id": "ceae7063",
   "metadata": {
    "scrolled": true
   },
   "outputs": [
    {
     "name": "stdout",
     "output_type": "stream",
     "text": [
      "[['primeira', 'segunda', 'terceira'], [], ['55', '93', '76'], [], ['62', '14', '86'], []]\n"
     ]
    }
   ],
   "source": [
    "#Gerando uma lista com dados do arquivo csv\n",
    "with open('Arquivos/numeros.csv', 'r') as arquivo:\n",
    "    leitor = csv.reader(arquivo)\n",
    "    dados = list(leitor)\n",
    "    \n",
    "print(dados)\n",
    "\n",
    "#TRANSFORMEI UMA LISTA EM DADOS !!!!!!"
   ]
  },
  {
   "cell_type": "code",
   "execution_count": 20,
   "id": "2d0bb3b1",
   "metadata": {},
   "outputs": [
    {
     "name": "stdout",
     "output_type": "stream",
     "text": [
      "['primeira', 'segunda', 'terceira']\n",
      "[]\n",
      "['55', '93', '76']\n",
      "[]\n",
      "['62', '14', '86']\n",
      "[]\n"
     ]
    }
   ],
   "source": [
    "#Imprimindo a partir da segunda linha\n",
    "for linha in dados[1:]: #iNDEXAÇÃO EM PYTHON COMEÇA POR ZERO \"!\"\n",
    "    print(linha)"
   ]
  },
  {
   "cell_type": "code",
   "execution_count": null,
   "id": "ed0747e5",
   "metadata": {},
   "outputs": [],
   "source": [
    "fdfdf"
   ]
  }
 ],
 "metadata": {
  "kernelspec": {
   "display_name": "Python 3",
   "language": "python",
   "name": "python3"
  },
  "language_info": {
   "codemirror_mode": {
    "name": "ipython",
    "version": 3
   },
   "file_extension": ".py",
   "mimetype": "text/x-python",
   "name": "python",
   "nbconvert_exporter": "python",
   "pygments_lexer": "ipython3",
   "version": "3.8.8"
  }
 },
 "nbformat": 4,
 "nbformat_minor": 5
}
