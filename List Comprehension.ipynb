{
 "cells": [
  {
   "cell_type": "code",
   "execution_count": 1,
   "id": "c9338b0f",
   "metadata": {},
   "outputs": [],
   "source": [
    "#Como foi visto usamos a função Map, reduce e filter para uma sequencia\n",
    "# de dados\n",
    "#Como isso é muito comum em python a linguagem fornece fontes mais fexiveis\n",
    "\n",
    "\n",
    "#ListComprehension aplica uma expressão arbitrária ( ao invés de aplicar)\n",
    "#apenas uma função a uma sequência de elementos\n",
    "\n",
    "#Permite desenvolver listas usando uma notação diferente\n",
    "#Seria por exemplo uma linha loop for, construída dento de []\n",
    "\n",
    "# lst = [x for x in \"sequência\"]\n",
    "\n",
    "#funçõas map normalmente trabalham com loop for, no entanto existem vantagem \n",
    "#de desempenho em ListComprehension\n"
   ]
  },
  {
   "cell_type": "code",
   "execution_count": 2,
   "id": "6cbb2a2b",
   "metadata": {},
   "outputs": [],
   "source": [
    "#Retorna cada caracter em uma sequencia de caracteres"
   ]
  },
  {
   "cell_type": "code",
   "execution_count": 4,
   "id": "56686248",
   "metadata": {},
   "outputs": [],
   "source": [
    "lst = [x for x in 'python']"
   ]
  },
  {
   "cell_type": "code",
   "execution_count": 5,
   "id": "5f36a68a",
   "metadata": {},
   "outputs": [
    {
     "data": {
      "text/plain": [
       "['p', 'y', 't', 'h', 'o', 'n']"
      ]
     },
     "execution_count": 5,
     "metadata": {},
     "output_type": "execute_result"
    }
   ],
   "source": [
    "#Check\n",
    "lst"
   ]
  },
  {
   "cell_type": "code",
   "execution_count": 10,
   "id": "661e0a7f",
   "metadata": {},
   "outputs": [],
   "source": [
    "#Raiz quadrada e um range de números e retornar uma lista\n",
    "lst = [x**2 for x in range(0,11)]"
   ]
  },
  {
   "cell_type": "code",
   "execution_count": 11,
   "id": "87b2f78b",
   "metadata": {},
   "outputs": [
    {
     "data": {
      "text/plain": [
       "[0, 1, 4, 9, 16, 25, 36, 49, 64, 81, 100]"
      ]
     },
     "execution_count": 11,
     "metadata": {},
     "output_type": "execute_result"
    }
   ],
   "source": [
    "lst"
   ]
  },
  {
   "cell_type": "code",
   "execution_count": 13,
   "id": "2a4d0f36",
   "metadata": {},
   "outputs": [],
   "source": [
    "#Verificar os npumeros pares em um range de números\n",
    "lst = [x for x in range(11) if x % 2 == 0]"
   ]
  },
  {
   "cell_type": "code",
   "execution_count": 14,
   "id": "adefa4be",
   "metadata": {},
   "outputs": [
    {
     "data": {
      "text/plain": [
       "[0, 2, 4, 6, 8, 10]"
      ]
     },
     "execution_count": 14,
     "metadata": {},
     "output_type": "execute_result"
    }
   ],
   "source": [
    "lst"
   ]
  },
  {
   "cell_type": "code",
   "execution_count": 15,
   "id": "2f46c60a",
   "metadata": {},
   "outputs": [
    {
     "data": {
      "text/plain": [
       "[32.0, 50.0, 68.18, 94.1]"
      ]
     },
     "execution_count": 15,
     "metadata": {},
     "output_type": "execute_result"
    }
   ],
   "source": [
    "#Converter Celsius para Fahrenheit\n",
    "celsius = [0,10,20.1,34.5]\n",
    "\n",
    "fahrenheit = [ ((float(9)/5)*temp + 32) for temp in celsius]\n",
    "\n",
    "fahrenheit"
   ]
  },
  {
   "cell_type": "code",
   "execution_count": 19,
   "id": "c9861184",
   "metadata": {},
   "outputs": [],
   "source": [
    "#Operações aninhadas #Um list dentro de outro\n",
    "lst = [x**2 for x in [x**2 for x in range(11)]]"
   ]
  },
  {
   "cell_type": "code",
   "execution_count": 20,
   "id": "7eacde08",
   "metadata": {},
   "outputs": [
    {
     "data": {
      "text/plain": [
       "[0, 1, 16, 81, 256, 625, 1296, 2401, 4096, 6561, 10000]"
      ]
     },
     "execution_count": 20,
     "metadata": {},
     "output_type": "execute_result"
    }
   ],
   "source": [
    "lst"
   ]
  },
  {
   "cell_type": "code",
   "execution_count": null,
   "id": "43b278c1",
   "metadata": {},
   "outputs": [],
   "source": []
  }
 ],
 "metadata": {
  "kernelspec": {
   "display_name": "Python 3",
   "language": "python",
   "name": "python3"
  },
  "language_info": {
   "codemirror_mode": {
    "name": "ipython",
    "version": 3
   },
   "file_extension": ".py",
   "mimetype": "text/x-python",
   "name": "python",
   "nbconvert_exporter": "python",
   "pygments_lexer": "ipython3",
   "version": "3.8.8"
  }
 },
 "nbformat": 4,
 "nbformat_minor": 5
}
